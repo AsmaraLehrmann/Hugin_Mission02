{
 "cells": [
  {
   "cell_type": "markdown",
   "id": "3deb8dbf",
   "metadata": {},
   "source": [
    "# Plotting Slope and Aspect (from QGIS)"
   ]
  },
  {
   "cell_type": "code",
   "execution_count": 1,
   "id": "92eca06a",
   "metadata": {},
   "outputs": [],
   "source": [
    "# Cell 1: Imports\n",
    "import pandas as pd\n",
    "import matplotlib.pyplot as plt\n",
    "from cmcrameri import cm"
   ]
  },
  {
   "cell_type": "code",
   "execution_count": 10,
   "id": "c8686c49",
   "metadata": {},
   "outputs": [
    {
     "name": "stdout",
     "output_type": "stream",
     "text": [
      "Enter the path to your Excel file: /Users/alehrmann/Documents/Research_files/West_Antarctica/Amundsen_Sea/Dotson/Ribs/profiles/Drumlin3_profiles_slope_aspect.xlsx\n"
     ]
    }
   ],
   "source": [
    "# Cell 2: Load Excel sheets (prompt for file path)\n",
    "file_path = input(\"Enter the path to your Excel file: \")\n",
    "sheets = pd.read_excel(file_path, sheet_name=None)"
   ]
  },
  {
   "cell_type": "code",
   "execution_count": 11,
   "id": "2ae7f8f0",
   "metadata": {},
   "outputs": [],
   "source": [
    "# Cell 3: Compute global ranges \n",
    "all_dist, all_val, all_slope, all_aspect = [], [], [], []\n",
    "for df in sheets.values():\n",
    "    df.columns = [c.lower() for c in df.columns]\n",
    "    all_dist.extend(df['distance'])\n",
    "    all_val.extend(df['value'])\n",
    "    all_slope.extend(df['slope_value'])\n",
    "    all_aspect.extend(df['aspect_value'])\n",
    "x_min, x_max = min(all_dist), max(all_dist)\n",
    "y1_min, y1_max = min(all_val), max(all_val)\n",
    "y2_min, y2_max = min(all_slope), max(all_slope)\n",
    "y3_min, y3_max = min(all_aspect), max(all_aspect)\n"
   ]
  },
  {
   "cell_type": "code",
   "execution_count": 12,
   "id": "6915ed1c",
   "metadata": {},
   "outputs": [],
   "source": [
    "# Cell 4: Plot profiles\n",
    "import os\n",
    "\n",
    "for name, df in sheets.items():\n",
    "    df.columns = [c.lower() for c in df.columns]\n",
    "\n",
    "    # create figure with custom size (width, height) in inches\n",
    "    fig, ax = plt.subplots(figsize=(10, 3))\n",
    "\n",
    "    ax.plot(df['distance'], df['value'], color='black', label='Water Depth')\n",
    "    ax.set_xlim(x_min, x_max); ax.set_ylim(y1_min, y1_max)\n",
    "    ax.set_xlabel('Distance'); ax.set_ylabel('Water Depth')\n",
    "\n",
    "    ax2 = ax.twinx()\n",
    "    ax2.plot(df['distance'], df['slope_value'], color=cm.batlow(0.5), label='Slope')\n",
    "    ax2.plot(df['distance'], df['aspect_value'], color=cm.lajolla(0.5), label='Aspect')\n",
    "    ax2.set_ylim(min(y2_min, y3_min), max(y2_max, y3_max))\n",
    "    ax2.set_ylabel('Slope / Aspect')\n",
    "\n",
    "    drumlin_num = name[0]\n",
    "    out_folder = f\"Drumlin_{drumlin_num}\"\n",
    "    os.makedirs(out_folder, exist_ok=True)\n",
    "\n",
    "    fig.tight_layout()\n",
    "    fig.savefig(os.path.join(out_folder, f\"{name}_profile_plot.png\"))\n",
    "    plt.close(fig)"
   ]
  },
  {
   "cell_type": "code",
   "execution_count": 21,
   "id": "bf044734",
   "metadata": {},
   "outputs": [],
   "source": [
    "# Cell 5: Summary per Drumlin with depth, slope, aspect\n",
    "import os; from math import ceil; import matplotlib.pyplot as plt; from cmcrameri import cm\n",
    "for dn in set(n[0] for n in sheets):\n",
    "    profs=[n for n in sheets if n[0]==dn]; n=len(profs)\n",
    "    rows=ceil(n/2); fig,axs=plt.subplots(rows,2,figsize=(20,5*rows)); axs=axs.flatten()\n",
    "    for ax,prof in zip(axs,profs):\n",
    "        df=sheets[prof]; df.columns=[c.lower() for c in df.columns]\n",
    "        ax.plot(df['distance'],df['value'],color='black',label='Depth'); ax.set_xlim(x_min,x_max); ax.set_ylim(y1_min,y1_max)\n",
    "        ax2=ax.twinx(); ax2.plot(df['distance'],df['slope_value'],color=cm.batlow(0.5),label='Slope'); ax2.plot(df['distance'],df['aspect_value'],color=cm.lajolla(0.5),label='Aspect')\n",
    "        ax2.set_ylim(min(y2_min,y3_min),max(y2_max,y3_max))\n",
    "        h1,l1=ax.get_legend_handles_labels(); h2,l2=ax2.get_legend_handles_labels(); ax.legend(h1+h2,l1+l2,loc='upper right')\n",
    "        ax.set_xlabel('Distance'); ax.set_ylabel('Depth'); ax2.set_ylabel('Slope/Aspect'); ax.set_title(prof)\n",
    "    for ax in axs[n:]: ax.axis('off')\n",
    "    out=f\"Drumlin_{dn}\"; os.makedirs(out,exist_ok=True); fig.tight_layout(); fig.savefig(os.path.join(out,f\"{out}_full_summary.png\")); plt.close(fig)\n"
   ]
  },
  {
   "cell_type": "code",
   "execution_count": null,
   "id": "7d7ba95e",
   "metadata": {},
   "outputs": [],
   "source": []
  }
 ],
 "metadata": {
  "kernelspec": {
   "display_name": "Python (myenv)",
   "language": "python",
   "name": "myenv"
  },
  "language_info": {
   "codemirror_mode": {
    "name": "ipython",
    "version": 3
   },
   "file_extension": ".py",
   "mimetype": "text/x-python",
   "name": "python",
   "nbconvert_exporter": "python",
   "pygments_lexer": "ipython3",
   "version": "3.11.11"
  }
 },
 "nbformat": 4,
 "nbformat_minor": 5
}
