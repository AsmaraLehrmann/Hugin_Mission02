{
 "cells": [
  {
   "cell_type": "markdown",
   "id": "a7a58a22",
   "metadata": {},
   "source": [
    "# Morphological-opening (rolling minimum) baseline"
   ]
  },
  {
   "cell_type": "code",
   "execution_count": null,
   "id": "c0d15d9d",
   "metadata": {},
   "outputs": [],
   "source": [
    "# Cell 1: imports\n",
    "import pandas as pd\n",
    "import numpy as np\n",
    "from scipy.ndimage import grey_opening\n",
    "from scipy.signal  import find_peaks\n"
   ]
  },
  {
   "cell_type": "code",
   "execution_count": null,
   "id": "e7c71104",
   "metadata": {},
   "outputs": [],
   "source": [
    "# Cell 2: prompt for inputs\n",
    "input_xlsx   = input(\"Path to input Excel: \").strip()\n",
    "phys_window  = float(input(\"Baseline window length (same units as distance): \").strip())\n",
    "height_thr   = float(input(\"Min rib height above baseline: \").strip())\n",
    "output_xlsx  = input(\"Path for output Excel: \").strip()\n"
   ]
  },
  {
   "cell_type": "code",
   "execution_count": null,
   "id": "23d4649a",
   "metadata": {},
   "outputs": [],
   "source": [
    "# Cell 3: read sheets & init\n",
    "sheets        = pd.read_excel(input_xlsx, sheet_name=None)\n",
    "out_profiles  = {}\n",
    "rib_summary   = []\n"
   ]
  },
  {
   "cell_type": "code",
   "execution_count": null,
   "id": "d3e38d51",
   "metadata": {},
   "outputs": [],
   "source": [
    "# Cell 4: detrend + detect ribs\n",
    "for name, df in sheets.items():\n",
    "    if not {'distance','z'}.issubset(df.columns): \n",
    "        print(f\"Skipping '{name}': missing cols\"); continue\n",
    "\n",
    "    d = df['distance']; spacing = d.diff().median()\n",
    "    win_pts = int(phys_window/spacing) // 2 * 2 + 1\n",
    "    \n",
    "    z        = df['z'].values\n",
    "    baseline = grey_opening(z, size=win_pts)\n",
    "    zdt      = z - baseline\n",
    "\n",
    "    peaks, _ = find_peaks(zdt, height=height_thr)\n",
    "    df['baseline']    = baseline\n",
    "    df['z_detrended'] = zdt\n",
    "    df['is_rib']      = False\n",
    "    df.loc[peaks, 'is_rib'] = True\n",
    "\n",
    "    rib_summary += [\n",
    "        {'profile': name,\n",
    "         'distance': d.iat[i],\n",
    "         'rib_height': zdt[i]}\n",
    "        for i in peaks\n",
    "    ]\n",
    "    out_profiles[name] = df\n"
   ]
  },
  {
   "cell_type": "code",
   "execution_count": null,
   "id": "85a1fc94",
   "metadata": {},
   "outputs": [],
   "source": [
    "# Cell 5: quick plots for each profile\n",
    "import matplotlib.pyplot as plt\n",
    "\n",
    "for name, df in out_profiles.items():\n",
    "    s = df['distance'].values\n",
    "    z = df['z'].values\n",
    "    baseline = df['baseline'].values\n",
    "    zdt = df['z_detrended'].values\n",
    "    peaks = np.flatnonzero(df['is_rib'])\n",
    "\n",
    "    plt.figure(figsize=(8,2))\n",
    "    plt.plot(s, z,      label='orig')\n",
    "    plt.plot(s, baseline, label='baseline')\n",
    "    plt.scatter(s[peaks], zdt[peaks] + baseline[peaks], marker='x', color='C3', label='ribs')\n",
    "    plt.title(name); plt.legend(); plt.tight_layout()\n",
    "    plt.show()\n"
   ]
  },
  {
   "cell_type": "code",
   "execution_count": null,
   "id": "5efc7a90",
   "metadata": {},
   "outputs": [],
   "source": [
    "# Cell 7: write results\n",
    "with pd.ExcelWriter(output_xlsx, engine='openpyxl') as w:\n",
    "    for name, df in out_profiles.items():\n",
    "        df.to_excel(w, sheet_name=name, index=False)\n",
    "    pd.DataFrame(rib_summary).to_excel(w, sheet_name='rib_summary', index=False)\n",
    "\n",
    "print(\"✔ Done – results in\", output_xlsx)\n"
   ]
  },
  {
   "cell_type": "markdown",
   "id": "cb2757b6",
   "metadata": {},
   "source": [
    "# Save plots"
   ]
  },
  {
   "cell_type": "code",
   "execution_count": null,
   "id": "5051eff0",
   "metadata": {},
   "outputs": [],
   "source": [
    "# Cell 1: imports\n",
    "import re\n",
    "import numpy as np\n",
    "import pandas as pd\n",
    "import matplotlib.pyplot as plt\n",
    "import cmcrameri.cm as cmr\n",
    "from mpl_toolkits.axes_grid1.inset_locator import inset_axes"
   ]
  },
  {
   "cell_type": "code",
   "execution_count": null,
   "id": "9526ea23",
   "metadata": {},
   "outputs": [],
   "source": [
    "# Cell 2: load workbook & normalize headers\n",
    "fp = input(\"Enter Excel path: \")\n",
    "all_sheets = pd.read_excel(fp, sheet_name=None)\n",
    "for name, df in all_sheets.items():\n",
    "    df.columns = df.columns.str.strip().str.lower()\n",
    "    all_sheets[name] = df"
   ]
  },
  {
   "cell_type": "code",
   "execution_count": null,
   "id": "afcc9777",
   "metadata": {},
   "outputs": [],
   "source": [
    "# Cell 3: pick sheets\n",
    "avail = list(all_sheets.keys())\n",
    "sel = input(f\"Sheets ({', '.join(avail)} or 'all'): \")\n",
    "chosen = avail if sel.lower().strip()=='all' else [s.strip() for s in sel.split(',')]\n",
    "if not chosen:\n",
    "    raise ValueError(\"No sheets selected!\")"
   ]
  },
  {
   "cell_type": "code",
   "execution_count": null,
   "id": "da43df47",
   "metadata": {},
   "outputs": [],
   "source": [
    "# Cell 4: filter & sort\n",
    "def numkey(s):\n",
    "    m = re.match(r\"(\\d+)\", s)\n",
    "    return int(m.group(1)) if m else float('inf')\n",
    "\n",
    "clean = {}\n",
    "required = {'distance','z','baseline','z_detrended','is_rib'}\n",
    "for name in sorted(chosen, key=numkey):\n",
    "    df = all_sheets.get(name)\n",
    "    if df is None or not required.issubset(df.columns):\n",
    "        print(f\"Skipping '{name}' (missing cols)\")\n",
    "        continue\n",
    "    mask = np.isfinite(df['z'])\n",
    "    if mask.sum()==0:\n",
    "        print(f\"Skipping '{name}' (no finite z)\")\n",
    "        continue\n",
    "    clean[name] = df.loc[mask].copy()\n",
    "\n",
    "if not clean:\n",
    "    raise ValueError(\"No valid sheets remain.\")"
   ]
  },
  {
   "cell_type": "code",
   "execution_count": null,
   "id": "158f0d20",
   "metadata": {},
   "outputs": [],
   "source": [
    "# Cell 5: compute global spans (as before)\n",
    "z_ranges  = [(df['z'].max() - df['z'].min()) for df in clean.values()]\n",
    "max_range = max(z_ranges)\n",
    "all_s     = np.hstack([df['distance'].values for df in clean.values()])\n",
    "x_min, x_max = np.nanmin(all_s), np.nanmax(all_s)\n",
    "cmap = cmr.batlow; base_col, rib_col = cmap(0.2), cmap(0.8)"
   ]
  },
  {
   "cell_type": "code",
   "execution_count": null,
   "id": "3178f4d6",
   "metadata": {},
   "outputs": [],
   "source": [
    "# Cell 6: vertical exaggeration → scale axis length instead of y‐range\n",
    "ve = input(\"Enter vertical exaggeration (1 = normal height, 2 = double height, etc.): \")\n",
    "try:\n",
    "    ve = float(ve)\n",
    "except ValueError:\n",
    "    print(\"Invalid entry; defaulting to 1.0\")\n",
    "    ve = 1.0\n",
    "\n",
    "# base height per subplot (in inches)\n",
    "base_h = 2  \n",
    "# compute total figure height\n",
    "fig_height = len(clean) * base_h * ve\n",
    "\n",
    "print(f\" → Figure height = {fig_height:.1f}\\\" ({ve}× base {base_h}\\\" per plot)\")"
   ]
  },
  {
   "cell_type": "code",
   "execution_count": null,
   "id": "43a63f22",
   "metadata": {},
   "outputs": [],
   "source": [
    "# Cell 7: stacked plots with VE‑scaled height & save\n",
    "fig, axes = plt.subplots(\n",
    "    len(clean), 1,\n",
    "    figsize=(8, fig_height),\n",
    "    sharex=True,\n",
    "    constrained_layout=True\n",
    ")\n",
    "if len(clean) == 1:\n",
    "    axes = [axes]\n",
    "\n",
    "for i, (name, df) in enumerate(clean.items()):\n",
    "    ax = axes[i]\n",
    "    s, z        = df['distance'].values, df['z'].values\n",
    "    base, zdt   = df['baseline'].values, df['z_detrended'].values\n",
    "    peaks       = np.flatnonzero(df['is_rib'])\n",
    "\n",
    "    # plot profile, baseline, ribs\n",
    "    ax.plot(s, z,    color='black', label='Profile')\n",
    "    ax.plot(s, base, '--',        color=base_col, label='Baseline')\n",
    "    ax.scatter(\n",
    "        s[peaks], base[peaks]+zdt[peaks],\n",
    "        s=60, marker='o', facecolor=rib_col,\n",
    "        edgecolor='none', label='Ribs'\n",
    "    )\n",
    "\n",
    "    # inset with rib count\n",
    "    ax_i = inset_axes(ax, width=\"25%\", height=\"25%\", loc='upper right')\n",
    "    ax_i.axis('off')\n",
    "    ax_i.text(0.5, 0.5, f\"n = {int(df['is_rib'].sum())}\",\n",
    "              ha='center', va='center', fontsize=8)\n",
    "\n",
    "    # uniform y‑limits (no VE on data range)\n",
    "    mid = (z.max() + z.min()) / 2\n",
    "    ax.set_ylim(mid - max_range/2, mid + max_range/2)\n",
    "    ax.set_xlim(x_min, x_max)\n",
    "    ax.set_title(name, fontsize=9)\n",
    "\n",
    "    # x‑axis only on top & bottom\n",
    "    if i == 0:\n",
    "        ax.xaxis.set_label_position('top')\n",
    "        ax.xaxis.tick_top()\n",
    "    elif i < len(clean) - 1:\n",
    "        ax.tick_params(labelbottom=False, labeltop=False)\n",
    "\n",
    "    ax.legend(loc='lower right', fontsize=8)\n",
    "\n",
    "# save to PNG\n",
    "out_png = input(\"Enter output PNG filename: \")\n",
    "fig.savefig(out_png, dpi=300)\n",
    "print(f\"Saved to {out_png}\")\n",
    "plt.show()\n"
   ]
  },
  {
   "cell_type": "markdown",
   "id": "9a49047b",
   "metadata": {},
   "source": [
    "# Get rib details"
   ]
  },
  {
   "cell_type": "code",
   "execution_count": null,
   "id": "e52cf728",
   "metadata": {},
   "outputs": [],
   "source": [
    "# Cell 1: imports\n",
    "import pandas as pd\n",
    "import numpy as np\n"
   ]
  },
  {
   "cell_type": "code",
   "execution_count": null,
   "id": "d863867e",
   "metadata": {},
   "outputs": [],
   "source": [
    "# Cell 2: prompt for input/output\n",
    "input_xlsx  = input(\"Path to input Excel: \").strip()\n",
    "output_xlsx = input(\"Path for output Excel: \").strip()\n"
   ]
  },
  {
   "cell_type": "code",
   "execution_count": null,
   "id": "28278954",
   "metadata": {},
   "outputs": [],
   "source": [
    "# Cell 3: read all sheets & init\n",
    "sheets          = pd.read_excel(input_xlsx, sheet_name=None)\n",
    "summary_sheets  = {}"
   ]
  },
  {
   "cell_type": "code",
   "execution_count": null,
   "id": "80692749",
   "metadata": {},
   "outputs": [],
   "source": [
    "# Cell 4: build per‑sheet summaries\n",
    "for name, df in sheets.items():\n",
    "    if 'is_rib' not in df.columns: \n",
    "        continue\n",
    "    ribs = df[df['is_rib']].sort_values('distance').reset_index(drop=True)\n",
    "    if ribs.empty:\n",
    "        continue\n",
    "    ribs = ribs.assign(\n",
    "        rib_number = ribs.index + 1,\n",
    "        spacing    = ribs['distance'].shift(-1) - ribs['distance'],\n",
    "        height     = ribs['z_detrended']\n",
    "    )\n",
    "    summary_sheets[name] = ribs[[\n",
    "        'rib_number','lat','long','z','spacing','height'\n",
    "    ]].rename(columns={\n",
    "        'lat':'latitude',\n",
    "        'long':'longitude',\n",
    "        'z':'water_depth'\n",
    "    })"
   ]
  },
  {
   "cell_type": "code",
   "execution_count": null,
   "id": "6e9972b2",
   "metadata": {},
   "outputs": [],
   "source": [
    "# Cell 5: write out only summary sheets\n",
    "with pd.ExcelWriter(output_xlsx, engine='openpyxl') as w:\n",
    "    for name, df_sum in summary_sheets.items():\n",
    "        df_sum.to_excel(w, sheet_name=name, index=False)\n",
    "print(\"✔ Done – per‑sheet summaries written to\", output_xlsx)"
   ]
  },
  {
   "cell_type": "markdown",
   "id": "844df049",
   "metadata": {},
   "source": [
    "# Summary Statistics"
   ]
  },
  {
   "cell_type": "code",
   "execution_count": null,
   "id": "f2cb1830",
   "metadata": {},
   "outputs": [],
   "source": [
    "# Cell 1: imports\n",
    "import pandas as pd"
   ]
  },
  {
   "cell_type": "code",
   "execution_count": null,
   "id": "72a41318",
   "metadata": {},
   "outputs": [],
   "source": [
    "# Cell 2: prompt for input/output\n",
    "input_xlsx  = input(\"Path to rib_summary Excel: \").strip()\n",
    "output_xlsx = input(\"Path for summary stats Excel: \").strip()"
   ]
  },
  {
   "cell_type": "code",
   "execution_count": null,
   "id": "4ffded96",
   "metadata": {},
   "outputs": [],
   "source": [
    "# Cell 3: read all rib_summary sheets\n",
    "details = pd.read_excel(input_xlsx, sheet_name=None)"
   ]
  },
  {
   "cell_type": "code",
   "execution_count": null,
   "id": "aefcc3b0",
   "metadata": {},
   "outputs": [],
   "source": [
    "# Cell 4: compute per‑sheet statistics\n",
    "summary_sheets = {}\n",
    "for name, df in details.items():\n",
    "    s = df['spacing'].dropna()\n",
    "    h = df['height'].dropna()\n",
    "    summary_sheets[name] = pd.DataFrame({\n",
    "        'mean_spacing': [s.mean()],\n",
    "        'std_spacing':  [s.std()],\n",
    "        'min_spacing':  [s.min()],\n",
    "        'max_spacing':  [s.max()],\n",
    "        'mean_height':  [h.mean()],\n",
    "        'std_height':   [h.std()],\n",
    "        'min_height':   [h.min()],\n",
    "        'max_height':   [h.max()]\n",
    "    })"
   ]
  },
  {
   "cell_type": "code",
   "execution_count": null,
   "id": "a4a04baf",
   "metadata": {},
   "outputs": [],
   "source": [
    "# Cell 5: compute overall dataset statistics\n",
    "num_profiles = len(details)\n",
    "ribs_counts  = [len(df) for df in details.values()]\n",
    "avg_ribs     = sum(ribs_counts) / num_profiles\n",
    "all_df       = pd.concat(details.values(), ignore_index=True)\n",
    "s_all        = all_df['spacing'].dropna()\n",
    "h_all        = all_df['height'].dropna()\n",
    "overall = pd.DataFrame({\n",
    "    'avg_ribs_per_profile': [avg_ribs],\n",
    "    'mean_spacing':         [s_all.mean()],\n",
    "    'std_spacing':          [s_all.std()],\n",
    "    'min_spacing':          [s_all.min()],\n",
    "    'max_spacing':          [s_all.max()],\n",
    "    'mean_height':          [h_all.mean()],\n",
    "    'std_height':           [h_all.std()],\n",
    "    'min_height':           [h_all.min()],\n",
    "    'max_height':           [h_all.max()]\n",
    "})\n"
   ]
  },
  {
   "cell_type": "code",
   "execution_count": null,
   "id": "958e4763",
   "metadata": {},
   "outputs": [],
   "source": [
    "# Cell 6: write all summaries to Excel\n",
    "with pd.ExcelWriter(output_xlsx, engine='openpyxl') as writer:\n",
    "    for name, df_sum in summary_sheets.items():\n",
    "        df_sum.to_excel(writer, sheet_name=name, index=False)\n",
    "    overall.to_excel(writer, sheet_name='overall_summary', index=False)\n",
    "print(\"✔ Done – statistics written to\", output_xlsx)\n"
   ]
  },
  {
   "cell_type": "markdown",
   "id": "aa324d9f",
   "metadata": {},
   "source": [
    "# Spacing vs height scatter plot"
   ]
  },
  {
   "cell_type": "code",
   "execution_count": 3,
   "id": "151dab18",
   "metadata": {},
   "outputs": [],
   "source": [
    "# Cell 1: imports\n",
    "import re\n",
    "import numpy as np\n",
    "import pandas as pd\n",
    "import matplotlib.pyplot as plt\n",
    "import cmcrameri.cm as cmr\n"
   ]
  },
  {
   "cell_type": "code",
   "execution_count": 5,
   "id": "0ca163cb",
   "metadata": {},
   "outputs": [
    {
     "name": "stdout",
     "output_type": "stream",
     "text": [
      "Enter path(s) to Rib‑Details Excel file(s), comma‑separated: /Users/alehrmann/Documents/Research_files/West_Antarctica/Amundsen_Sea/Dotson/Ribs/profiles/Drumlin1 rib profiles/Drumlin1_rib_profiles_rollingwindow7_details.xlsx, /Users/alehrmann/Documents/Research_files/West_Antarctica/Amundsen_Sea/Dotson/Ribs/profiles/Drumlin 2 rib profiles/Drumlin2_rib_rollingwindow7_details.xlsx, /Users/alehrmann/Documents/Research_files/West_Antarctica/Amundsen_Sea/Dotson/Ribs/profiles/Drumlin3 rib profiles/Drumlin3_rib_rolloingwindow7_details.xlsx, /Users/alehrmann/Documents/Research_files/West_Antarctica/Amundsen_Sea/Dotson/Ribs/profiles/Drumlin 4 rib profiles/Drumlin4_rib_rollingwindow7_details.xlsx, /Users/alehrmann/Documents/Research_files/West_Antarctica/Amundsen_Sea/Dotson/Ribs/profiles/Tail rib profiles/Tails_rib_rollingwindow7_details.xlsx\n"
     ]
    }
   ],
   "source": [
    "# Cell 2: load Rib‑Details workbooks (all sheets)\n",
    "fps = input(\"Enter path(s) to Rib‑Details Excel file(s), comma‑separated: \")\n",
    "sheets = {}\n",
    "for fp in [p.strip() for p in fps.split(\",\")]:\n",
    "    wb = pd.read_excel(fp, sheet_name=None)\n",
    "    for sheet, df in wb.items():\n",
    "        df = df.copy()\n",
    "        df.columns = df.columns.str.strip().str.lower()\n",
    "        sheets[sheet] = df\n"
   ]
  },
  {
   "cell_type": "code",
   "execution_count": 6,
   "id": "d9fd3c5b",
   "metadata": {},
   "outputs": [],
   "source": [
    "# Cell 3: concatenate all sheets into one DataFrame\n",
    "dfm = pd.concat(\n",
    "    [df.assign(sheet=name) for name, df in sheets.items()],\n",
    "    ignore_index=True\n",
    ")\n",
    "# expect columns: spacing, height\n"
   ]
  },
  {
   "cell_type": "code",
   "execution_count": 7,
   "id": "fd29d8de",
   "metadata": {},
   "outputs": [],
   "source": [
    "# Cell 4: assign drumlin groups & pick colors\n",
    "def natural_key(s):\n",
    "    parts = re.split(r'(\\d+)', s)\n",
    "    return [int(p) if p.isdigit() else p for p in parts]\n",
    "\n",
    "dfm[\"group\"] = dfm[\"sheet\"].str[0].apply(\n",
    "    lambda c: f\"Drumlin {c}\" if c.isdigit() else \"Drumlin Tails\"\n",
    ")\n",
    "num_groups = sorted(\n",
    "    {g for g in dfm[\"group\"] if g!=\"Drumlin Tails\"},\n",
    "    key=lambda s: int(s.split()[1])\n",
    ")\n",
    "groups = num_groups + ([\"Drumlin Tails\"] if \"Drumlin Tails\" in dfm[\"group\"].values else [])\n",
    "colors = cmr.batlow(np.linspace(0.2, 0.8, len(groups)))\n",
    "col_map = dict(zip(groups, colors))\n"
   ]
  },
  {
   "cell_type": "code",
   "execution_count": 15,
   "id": "8d8e2382",
   "metadata": {},
   "outputs": [
    {
     "name": "stderr",
     "output_type": "stream",
     "text": [
      "/var/folders/q4/w7kphmzx3jl2b5pgvmmvn0y80000gn/T/ipykernel_13745/172871441.py:14: UserWarning: Tight layout not applied. The left and right margins cannot be made large enough to accommodate all Axes decorations.\n",
      "  plt.tight_layout()\n"
     ]
    },
    {
     "data": {
      "image/png": "[encoded data removed]",
      "text/plain": [
       "<Figure size 150x1000 with 1 Axes>"
      ]
     },
     "metadata": {},
     "output_type": "display_data"
    }
   ],
   "source": [
    "# Cell 5: scatter plot Spacing vs Height by group\n",
    "fig, ax = plt.subplots(figsize=(1.5, 10))\n",
    "fig.subplots_adjust(right=0.75)\n",
    "for grp in groups:\n",
    "    sub = dfm[dfm[\"group\"] == grp]\n",
    "    ax.scatter(sub[\"spacing\"], sub[\"height\"],\n",
    "               color=col_map[grp], label=grp,\n",
    "               s=40, edgecolor=\"k\", alpha=0.7)\n",
    "ax.set_xlabel(\"Spacing\")\n",
    "ax.set_ylabel(\"Height\")\n",
    "ax.set_title(\"Height vs Spacing by Drumlin Group\")\n",
    "ax.legend(title=\"Group\", bbox_to_anchor=(1.02, 1),\n",
    "          loc=\"upper left\", fontsize=\"small\")\n",
    "plt.tight_layout()\n"
   ]
  },
  {
   "cell_type": "code",
   "execution_count": 11,
   "id": "9610870d",
   "metadata": {},
   "outputs": [
    {
     "name": "stdout",
     "output_type": "stream",
     "text": [
      "Enter output filename (e.g. height_vs_spacing.png): heightvspacing.png\n",
      "Saved to heightvspacing.png\n"
     ]
    }
   ],
   "source": [
    "# Cell 6: save figure\n",
    "out = input(\"Enter output filename (e.g. height_vs_spacing.png): \")\n",
    "fig.savefig(out, dpi=300, bbox_inches=\"tight\")\n",
    "print(f\"Saved to {out}\")\n"
   ]
  },
  {
   "cell_type": "code",
   "execution_count": null,
   "id": "219b3f8e",
   "metadata": {},
   "outputs": [],
   "source": []
  }
 ],
 "metadata": {
  "kernelspec": {
   "display_name": "Python (myenv)",
   "language": "python",
   "name": "myenv"
  },
  "language_info": {
   "codemirror_mode": {
    "name": "ipython",
    "version": 3
   },
   "file_extension": ".py",
   "mimetype": "text/x-python",
   "name": "python",
   "nbconvert_exporter": "python",
   "pygments_lexer": "ipython3",
   "version": "3.11.11"
  }
 },
 "nbformat": 4,
 "nbformat_minor": 5
}
