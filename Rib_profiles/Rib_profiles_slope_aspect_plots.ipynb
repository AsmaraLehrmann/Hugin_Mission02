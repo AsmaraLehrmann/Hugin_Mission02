{
 "cells": [
  {
   "cell_type": "markdown",
   "id": "3deb8dbf",
   "metadata": {},
   "source": [
    "# Plotting Slope and Aspect (from QGIS)"
   ]
  },
  {
   "cell_type": "code",
   "execution_count": null,
   "id": "6bf3763f",
   "metadata": {},
   "outputs": [],
   "source": [
    "# Cell 1: imports\n",
    "import numpy as np\n",
    "import pandas as pd\n",
    "import matplotlib.pyplot as plt\n",
    "import cmcrameri.cm as cmr\n",
    "from mpl_toolkits.axes_grid1.inset_locator import inset_axes\n",
    "from mpl_toolkits.axes_grid1 import host_subplot\n",
    "import mpl_toolkits.axisartist as AA\n"
   ]
  },
  {
   "cell_type": "code",
   "execution_count": null,
   "id": "a2b1e78d",
   "metadata": {},
   "outputs": [],
   "source": [
    "# Cell 2: load Rolling‑Window sheets with “all” option\n",
    "fp_r    = input(\"Enter Rolling‑Window Excel path: \")\n",
    "all_r   = pd.read_excel(fp_r, sheet_name=None)\n",
    "avail_r = list(all_r.keys())\n",
    "sel_r   = input(f\"Choose Rolling sheet(s) ({', '.join(avail_r)}) or 'all': \")\n",
    "chosen_r = avail_r if sel_r.lower().strip()==\"all\" else [s.strip() for s in sel_r.split(\",\")]\n",
    "df_r = {name: df.copy() for name, df in all_r.items() if name in chosen_r}\n",
    "for df in df_r.values():\n",
    "    df.columns = df.columns.str.strip().str.lower()\n"
   ]
  },
  {
   "cell_type": "code",
   "execution_count": null,
   "id": "c26dd595",
   "metadata": {},
   "outputs": [],
   "source": [
    "# Cell 3: load Slope‑Aspect sheets with “all” option\n",
    "fp_s    = input(\"Enter Slope‑Aspect Excel path: \")\n",
    "all_s   = pd.read_excel(fp_s, sheet_name=None)\n",
    "avail_s = list(all_s.keys())\n",
    "sel_s   = input(f\"Choose Slope-Aspect sheet(s) ({', '.join(avail_s)}) or 'all': \")\n",
    "chosen_s = avail_s if sel_s.lower().strip()==\"all\" else [s.strip() for s in sel_s.split(\",\")]\n",
    "df_s = {name: df.copy() for name, df in all_s.items() if name in chosen_s}\n",
    "for df in df_s.values():\n",
    "    df.columns = df.columns.str.strip().str.lower()\n",
    "    df.rename(columns={\"value\":\"z\",\"slope_value\":\"slope\",\"aspect_value\":\"aspect\"}, inplace=True)\n"
   ]
  },
  {
   "cell_type": "code",
   "execution_count": null,
   "id": "90846e17",
   "metadata": {},
   "outputs": [],
   "source": [
    "# Cell 4: find matching sheets\n",
    "common = [n for n in df_r if n in df_s]\n",
    "if not common:\n",
    "    raise ValueError(\"No overlapping sheets found\")\n",
    "print(\"Will plot:\", common)\n"
   ]
  },
  {
   "cell_type": "code",
   "execution_count": null,
   "id": "423b2a0d",
   "metadata": {},
   "outputs": [],
   "source": [
    "# Cell 5: redefine plotting function with legend\n",
    "def plot_sheet(name, dfr, dfs):\n",
    "    s_r, dz, base, zdt, ribs = (\n",
    "        dfr[\"distance\"], dfr[\"z\"], dfr[\"baseline\"],\n",
    "        dfr[\"z_detrended\"], dfr[\"is_rib\"].astype(bool)\n",
    "    )\n",
    "    s_s, slope, aspect = dfs[\"distance\"], dfs[\"slope\"], dfs[\"aspect\"]\n",
    "    fig = plt.figure(figsize=(8, fig_height))\n",
    "    host = host_subplot(111, axes_class=AA.Axes); plt.subplots_adjust(right=0.75)\n",
    "    par_s = host.twinx(); par_a = host.twinx(); par_a.spines[\"right\"].set_position((\"axes\",1.2))\n",
    "    # semi‑transparent curves behind\n",
    "    par_s.plot(s_s, slope,   alpha=0.2, color=col_s, zorder=0, label=\"Slope\")\n",
    "    par_a.plot(s_s, aspect,  alpha=0.2, color=col_a, zorder=0, label=\"Aspect\")\n",
    "    # 3rd‑order solid trends\n",
    "    ts = np.poly1d(np.polyfit(s_s, slope, 3))(s_s)\n",
    "    ta = np.poly1d(np.polyfit(s_s, aspect,3))(s_s)\n",
    "    par_s.plot(s_s, ts, color=col_s, zorder=1, label=\"Slope trend\")\n",
    "    par_a.plot(s_s, ta, color=col_a, zorder=1, label=\"Aspect trend\")\n",
    "    # profile & baseline\n",
    "    host.plot(s_r, dz,    color=\"black\", zorder=2, label=\"Profile\")\n",
    "    host.plot(s_r, base, \"--\", color=base_col, zorder=2, label=\"Baseline\")\n",
    "    # ribs behind profile\n",
    "    host.scatter(\n",
    "        s_r[ribs], base[ribs]+zdt[ribs],\n",
    "        s=60, marker=\"o\", facecolor=rib_col,\n",
    "        edgecolor=\"none\", zorder=1, label=\"Ribs\"\n",
    "    )\n",
    "    # labels\n",
    "    host.set_xlabel(\"Distance\"); host.set_ylabel(\"Depth\")\n",
    "    par_s.set_ylabel(\"Slope\");    par_a.set_ylabel(\"Aspect\")\n",
    "    # legend outside on right\n",
    "    lines, labs = [], []\n",
    "    for ax in (host, par_s, par_a):\n",
    "        l, la = ax.get_legend_handles_labels(); lines += l; labs += la\n",
    "    seen, hl, ll = set(), [], []\n",
    "    for h, l in zip(lines, labs):\n",
    "        if l not in seen:\n",
    "            seen.add(l); hl.append(h); ll.append(l)\n",
    "    host.legend(hl, ll, loc=\"center left\", bbox_to_anchor=(1.02, 0.5), fontsize=8)\n",
    "    # save\n",
    "    out = f\"{name}_slope.png\"\n",
    "    fig.savefig(out, dpi=300, bbox_inches=\"tight\"); print(f\"Saved to {out}\")\n",
    "    plt.show()\n"
   ]
  },
  {
   "cell_type": "code",
   "execution_count": null,
   "id": "65c2871f",
   "metadata": {},
   "outputs": [],
   "source": [
    "# Cell 6: loop and auto‐save all sheets\n",
    "for name in common:\n",
    "    plot_sheet(name, df_r[name], df_s[name])\n"
   ]
  },
  {
   "cell_type": "markdown",
   "id": "7b898fc4",
   "metadata": {},
   "source": [
    "# Scatter plots\n",
    "## Spacing vs slope"
   ]
  },
  {
   "cell_type": "code",
   "execution_count": null,
   "id": "809fb32f",
   "metadata": {},
   "outputs": [],
   "source": [
    "# Cell 1: imports\n",
    "import numpy as np\n",
    "import pandas as pd\n",
    "import matplotlib.pyplot as plt\n",
    "import cmcrameri.cm as cmr\n",
    "from scipy.spatial import cKDTree\n"
   ]
  },
  {
   "cell_type": "code",
   "execution_count": null,
   "id": "aa0093b0",
   "metadata": {},
   "outputs": [],
   "source": [
    "# Cell 2: load one or more Slope‑Aspect workbooks, keyed by sheet name\n",
    "import pandas as pd\n",
    "import cmcrameri.cm as cmr\n",
    "from scipy.spatial import cKDTree\n",
    "\n",
    "fps = input(\"Enter path(s) to Slope‑Aspect Excel file(s), comma-separated: \")\n",
    "sheets_s = {}\n",
    "for fp in [p.strip() for p in fps.split(\",\")]:\n",
    "    wb = pd.read_excel(fp, sheet_name=None)\n",
    "    for sheet, df in wb.items():\n",
    "        df = df.copy()\n",
    "        df.columns = df.columns.str.strip().str.lower()\n",
    "        sheets_s[sheet] = df.rename(columns={\n",
    "            \"value\": \"z\",\n",
    "            \"slope_value\": \"slope\",\n",
    "            \"aspect_value\": \"aspect\",\n",
    "            \"x\": \"x\",\n",
    "            \"y\": \"y\"\n",
    "        })\n"
   ]
  },
  {
   "cell_type": "code",
   "execution_count": null,
   "id": "3a1441d2",
   "metadata": {},
   "outputs": [],
   "source": [
    "# Cell 3: load one or more Rib‑Details workbooks, keyed by sheet name\n",
    "fps_r = input(\"Enter path(s) to Rib‑Details Excel file(s), comma-separated: \")\n",
    "sheets_r = {}\n",
    "for fp in [p.strip() for p in fps_r.split(\",\")]:\n",
    "    wb = pd.read_excel(fp, sheet_name=None)\n",
    "    for sheet, df in wb.items():\n",
    "        df = df.copy()\n",
    "        df.columns = df.columns.str.strip().str.lower()\n",
    "        sheets_r[sheet] = df\n"
   ]
  },
  {
   "cell_type": "code",
   "execution_count": null,
   "id": "829d5c60",
   "metadata": {},
   "outputs": [],
   "source": [
    "# Cell 4: merge each sheet (by nearest lat/lon) into one DataFrame\n",
    "import numpy as np\n",
    "\n",
    "merged = []\n",
    "for name, sdf in sheets_s.items():\n",
    "    if name not in sheets_r:\n",
    "        continue\n",
    "    rdf = sheets_r[name]\n",
    "    # build KD tree on slope points\n",
    "    tree = cKDTree(np.column_stack((sdf[\"x\"], sdf[\"y\"])))\n",
    "    pts  = np.column_stack((rdf[\"longitude\"], rdf[\"latitude\"]))\n",
    "    _, idx = tree.query(pts)\n",
    "    merged.append(pd.DataFrame({\n",
    "        \"sheet\":   name,\n",
    "        \"spacing\": rdf[\"spacing\"],\n",
    "        \"slope\":   sdf[\"slope\"].values[idx]\n",
    "    }))\n",
    "\n",
    "if not merged:\n",
    "    raise ValueError(\"No matching sheets found between the two sets!\")\n",
    "dfm = pd.concat(merged, ignore_index=True)\n"
   ]
  },
  {
   "cell_type": "code",
   "execution_count": null,
   "id": "e06ae649",
   "metadata": {},
   "outputs": [],
   "source": [
    "# Cell 5: assign group labels & colors\n",
    "# group by first character\n",
    "dfm[\"group\"] = dfm[\"sheet\"].str[0].apply(\n",
    "    lambda c: f\"Drumlin {c}\" if c.isdigit() else \"Drumlin Tails\"\n",
    ")\n",
    "# sort groups: numbers ascending, then tails\n",
    "num = sorted({g for g in dfm[\"group\"] if g!=\"Drumlin Tails\"},\n",
    "             key=lambda s: int(s.split()[1]))\n",
    "groups = num + ([\"Drumlin Tails\"] if \"Drumlin Tails\" in dfm[\"group\"].values else [])\n",
    "colors = cmr.batlow(np.linspace(0.2, 0.8, len(groups)))\n",
    "col_map = dict(zip(groups, colors))\n"
   ]
  },
  {
   "cell_type": "code",
   "execution_count": null,
   "id": "4b3ccd74",
   "metadata": {},
   "outputs": [],
   "source": [
    "# Cell 6: scatter plot spacing vs slope colored by group\n",
    "fig, ax = plt.subplots(figsize=(10, 6))\n",
    "for grp in groups:\n",
    "    sub = dfm[dfm[\"group\"]==grp]\n",
    "    ax.scatter(sub[\"spacing\"], sub[\"slope\"],\n",
    "               color=col_map[grp], label=grp,\n",
    "               s=40, edgecolor=\"k\", alpha=0.7)\n",
    "ax.set_xlabel(\"Spacing\")\n",
    "ax.set_ylabel(\"Slope\")\n",
    "ax.set_title(\"Slope vs Spacing by Drumlin Group\")\n",
    "ax.legend(title=\"Group\", bbox_to_anchor=(1.02, 1),\n",
    "          loc=\"upper left\", fontsize=\"small\")\n",
    "plt.tight_layout()\n"
   ]
  },
  {
   "cell_type": "code",
   "execution_count": null,
   "id": "7483754a",
   "metadata": {},
   "outputs": [],
   "source": [
    "# Cell 7: save figure\n",
    "out = input(\"Enter output filename (e.g. spacing_by_group.png): \")\n",
    "fig.savefig(out, dpi=300, bbox_inches=\"tight\")\n",
    "print(f\"Saved to {out}\")\n"
   ]
  }
 ],
 "metadata": {
  "kernelspec": {
   "display_name": "Python (myenv)",
   "language": "python",
   "name": "myenv"
  },
  "language_info": {
   "codemirror_mode": {
    "name": "ipython",
    "version": 3
   },
   "file_extension": ".py",
   "mimetype": "text/x-python",
   "name": "python",
   "nbconvert_exporter": "python",
   "pygments_lexer": "ipython3",
   "version": "3.11.11"
  }
 },
 "nbformat": 4,
 "nbformat_minor": 5
}
